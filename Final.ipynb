{
 "cells": [
  {
   "cell_type": "markdown",
   "id": "f3549412",
   "metadata": {},
   "source": [
    "# Total Gross Weights"
   ]
  },
  {
   "cell_type": "code",
   "execution_count": 102,
   "id": "5dc98820",
   "metadata": {},
   "outputs": [
    {
     "data": {
      "text/plain": [
       "(4286, 10)"
      ]
     },
     "execution_count": 102,
     "metadata": {},
     "output_type": "execute_result"
    }
   ],
   "source": [
    "# Read in data and store feature vectors in array X and labels in array y\n",
    "import numpy as np\n",
    "DATAgross = np.loadtxt('imdb_gross.csv', delimiter=',', skiprows=1)  # Read data from csv file\n",
    "X = DATAgross[:, :-1]  # All columns except final column\n",
    "y = DATAgross[:, -1]   # Final column is label\n",
    "X.shape"
   ]
  },
  {
   "cell_type": "code",
   "execution_count": 103,
   "id": "e23befc9",
   "metadata": {},
   "outputs": [],
   "source": [
    "# Split data into 80% training and 20% testing. Set random_state=0.\n",
    "\n",
    "from sklearn.model_selection import train_test_split\n",
    "X_train, X_test, y_train, y_test = train_test_split(X, y, test_size=0.20, random_state=0)"
   ]
  },
  {
   "cell_type": "code",
   "execution_count": 104,
   "id": "fe19939a",
   "metadata": {},
   "outputs": [
    {
     "name": "stdout",
     "output_type": "stream",
     "text": [
      "Regression score on test data:\t0.7995933872583904\n"
     ]
    }
   ],
   "source": [
    "# Train linear regression model on training data.\n",
    "\n",
    "from sklearn.linear_model import LinearRegression\n",
    "\n",
    "regr = LinearRegression()  # Create LinearRegression instance\n",
    "regr.fit(X_train, y_train) # Learn hypothesis, i.e., find w_0 and w_1 for best fitting line\n",
    "print('Regression score on test data:\\t' + str(regr.score(X_test, y_test)))"
   ]
  },
  {
   "cell_type": "code",
   "execution_count": 105,
   "id": "f8e76dc2",
   "metadata": {},
   "outputs": [
    {
     "name": "stdout",
     "output_type": "stream",
     "text": [
      "[0.00000000e+000 9.74616850e-054 6.44955662e-016 3.05271517e-030\n",
      " 5.18762700e-036 0.00000000e+000 6.08041766e-001 1.12231235e-009\n",
      " 1.12002445e-307 4.04155424e-055]\n"
     ]
    }
   ],
   "source": [
    "from sklearn.feature_selection import f_regression\n",
    "print(f_regression(X_train, y_train)[1])"
   ]
  },
  {
   "cell_type": "markdown",
   "id": "212b31a1",
   "metadata": {},
   "source": [
    "Most significant: Director, followed by year, censor, and runtime"
   ]
  },
  {
   "cell_type": "markdown",
   "id": "9e27baeb",
   "metadata": {},
   "source": [
    "# Predictors for Gross"
   ]
  },
  {
   "cell_type": "code",
   "execution_count": 112,
   "id": "7d36e93c",
   "metadata": {},
   "outputs": [
    {
     "ename": "ValueError",
     "evalue": "Unknown label type: 'continuous'",
     "output_type": "error",
     "traceback": [
      "\u001b[0;31m---------------------------------------------------------------------------\u001b[0m",
      "\u001b[0;31mValueError\u001b[0m                                Traceback (most recent call last)",
      "\u001b[0;32m/var/folders/z9/4_tx79m578b72htn4g8g8drw0000gn/T/ipykernel_50081/698154061.py\u001b[0m in \u001b[0;36m<module>\u001b[0;34m\u001b[0m\n\u001b[1;32m      9\u001b[0m            }\n\u001b[1;32m     10\u001b[0m \u001b[0;32mfor\u001b[0m \u001b[0mclassifierName\u001b[0m \u001b[0;32min\u001b[0m \u001b[0mlearners\u001b[0m\u001b[0;34m:\u001b[0m\u001b[0;34m\u001b[0m\u001b[0;34m\u001b[0m\u001b[0m\n\u001b[0;32m---> 11\u001b[0;31m     \u001b[0mlearners\u001b[0m\u001b[0;34m[\u001b[0m\u001b[0mclassifierName\u001b[0m\u001b[0;34m]\u001b[0m\u001b[0;34m.\u001b[0m\u001b[0mfit\u001b[0m\u001b[0;34m(\u001b[0m\u001b[0mX_train\u001b[0m\u001b[0;34m,\u001b[0m \u001b[0my_train\u001b[0m\u001b[0;34m)\u001b[0m\u001b[0;34m\u001b[0m\u001b[0;34m\u001b[0m\u001b[0m\n\u001b[0m\u001b[1;32m     12\u001b[0m     \u001b[0mprint\u001b[0m\u001b[0;34m(\u001b[0m\u001b[0;34m'Accuracy of '\u001b[0m \u001b[0;34m+\u001b[0m \u001b[0mclassifierName\u001b[0m \u001b[0;34m+\u001b[0m \u001b[0;34m':\\t'\u001b[0m \u001b[0;34m+\u001b[0m \u001b[0mstr\u001b[0m\u001b[0;34m(\u001b[0m\u001b[0mnp\u001b[0m\u001b[0;34m.\u001b[0m\u001b[0mmean\u001b[0m\u001b[0;34m(\u001b[0m\u001b[0mcross_val_score\u001b[0m\u001b[0;34m(\u001b[0m\u001b[0mlearners\u001b[0m\u001b[0;34m[\u001b[0m\u001b[0mclassifierName\u001b[0m\u001b[0;34m]\u001b[0m\u001b[0;34m,\u001b[0m \u001b[0mX_train\u001b[0m\u001b[0;34m,\u001b[0m \u001b[0my_train\u001b[0m\u001b[0;34m)\u001b[0m\u001b[0;34m)\u001b[0m\u001b[0;34m)\u001b[0m\u001b[0;34m)\u001b[0m\u001b[0;34m\u001b[0m\u001b[0;34m\u001b[0m\u001b[0m\n",
      "\u001b[0;32m~/opt/anaconda3/lib/python3.9/site-packages/sklearn/linear_model/_logistic.py\u001b[0m in \u001b[0;36mfit\u001b[0;34m(self, X, y, sample_weight)\u001b[0m\n\u001b[1;32m   1514\u001b[0m             \u001b[0maccept_large_sparse\u001b[0m\u001b[0;34m=\u001b[0m\u001b[0msolver\u001b[0m \u001b[0;32mnot\u001b[0m \u001b[0;32min\u001b[0m \u001b[0;34m[\u001b[0m\u001b[0;34m\"liblinear\"\u001b[0m\u001b[0;34m,\u001b[0m \u001b[0;34m\"sag\"\u001b[0m\u001b[0;34m,\u001b[0m \u001b[0;34m\"saga\"\u001b[0m\u001b[0;34m]\u001b[0m\u001b[0;34m,\u001b[0m\u001b[0;34m\u001b[0m\u001b[0;34m\u001b[0m\u001b[0m\n\u001b[1;32m   1515\u001b[0m         )\n\u001b[0;32m-> 1516\u001b[0;31m         \u001b[0mcheck_classification_targets\u001b[0m\u001b[0;34m(\u001b[0m\u001b[0my\u001b[0m\u001b[0;34m)\u001b[0m\u001b[0;34m\u001b[0m\u001b[0;34m\u001b[0m\u001b[0m\n\u001b[0m\u001b[1;32m   1517\u001b[0m         \u001b[0mself\u001b[0m\u001b[0;34m.\u001b[0m\u001b[0mclasses_\u001b[0m \u001b[0;34m=\u001b[0m \u001b[0mnp\u001b[0m\u001b[0;34m.\u001b[0m\u001b[0munique\u001b[0m\u001b[0;34m(\u001b[0m\u001b[0my\u001b[0m\u001b[0;34m)\u001b[0m\u001b[0;34m\u001b[0m\u001b[0;34m\u001b[0m\u001b[0m\n\u001b[1;32m   1518\u001b[0m \u001b[0;34m\u001b[0m\u001b[0m\n",
      "\u001b[0;32m~/opt/anaconda3/lib/python3.9/site-packages/sklearn/utils/multiclass.py\u001b[0m in \u001b[0;36mcheck_classification_targets\u001b[0;34m(y)\u001b[0m\n\u001b[1;32m    195\u001b[0m         \u001b[0;34m\"multilabel-sequences\"\u001b[0m\u001b[0;34m,\u001b[0m\u001b[0;34m\u001b[0m\u001b[0;34m\u001b[0m\u001b[0m\n\u001b[1;32m    196\u001b[0m     ]:\n\u001b[0;32m--> 197\u001b[0;31m         \u001b[0;32mraise\u001b[0m \u001b[0mValueError\u001b[0m\u001b[0;34m(\u001b[0m\u001b[0;34m\"Unknown label type: %r\"\u001b[0m \u001b[0;34m%\u001b[0m \u001b[0my_type\u001b[0m\u001b[0;34m)\u001b[0m\u001b[0;34m\u001b[0m\u001b[0;34m\u001b[0m\u001b[0m\n\u001b[0m\u001b[1;32m    198\u001b[0m \u001b[0;34m\u001b[0m\u001b[0m\n\u001b[1;32m    199\u001b[0m \u001b[0;34m\u001b[0m\u001b[0m\n",
      "\u001b[0;31mValueError\u001b[0m: Unknown label type: 'continuous'"
     ]
    }
   ],
   "source": [
    "from sklearn import linear_model  # Using sklearn Perceptron and Logistics classifier\n",
    "from sklearn import tree  # Using RandomForest classifier\n",
    "from sklearn import neighbors  # Using nearest neighbors classifier\n",
    "from sklearn.model_selection import cross_val_score\n",
    "\n",
    "learners = {\n",
    "           }\n",
    "for classifierName in learners:\n",
    "    learners[classifierName].fit(X_train, y_train)\n",
    "    print('Accuracy of ' + classifierName + ':\\t' + str(np.mean(cross_val_score(learners[classifierName], X_train, y_train))))\n"
   ]
  },
  {
   "cell_type": "markdown",
   "id": "4867d206",
   "metadata": {},
   "source": [
    "# Rating Weights"
   ]
  },
  {
   "cell_type": "code",
   "execution_count": 98,
   "id": "c333d2b8",
   "metadata": {},
   "outputs": [
    {
     "data": {
      "text/plain": [
       "(4286, 10)"
      ]
     },
     "execution_count": 98,
     "metadata": {},
     "output_type": "execute_result"
    }
   ],
   "source": [
    "# Read in data and store feature vectors in array X and labels in array y\n",
    "import numpy as np\n",
    "DATAratings = np.loadtxt('imdb_clean_adjusted_numeric_rating.csv', delimiter=',', skiprows=1)  # Read data from csv file\n",
    "X = DATAratings[:, :-1]  # All columns except final column\n",
    "y = DATAratings[:, -1]   # Final column is label\n",
    "X.shape"
   ]
  },
  {
   "cell_type": "code",
   "execution_count": 99,
   "id": "ef890835",
   "metadata": {},
   "outputs": [],
   "source": [
    "# Split data into 80% training and 20% testing. Set random_state=0.\n",
    "\n",
    "from sklearn.model_selection import train_test_split\n",
    "X_train, X_test, y_train, y_test = train_test_split(X, y, test_size=0.20, random_state=0)"
   ]
  },
  {
   "cell_type": "code",
   "execution_count": 100,
   "id": "c51e6ed4",
   "metadata": {},
   "outputs": [
    {
     "name": "stdout",
     "output_type": "stream",
     "text": [
      "Regression score on test data:\t0.20468668557423786\n",
      "Regression score on train data:\t0.23256122599283746\n"
     ]
    }
   ],
   "source": [
    "# Train linear regression model on training data.\n",
    "\n",
    "from sklearn.linear_model import LinearRegression\n",
    "from sklearn.preprocessing import StandardScaler\n",
    "\n",
    "scaler = StandardScaler()\n",
    "\n",
    "scaler.fit(X_train)\n",
    "Xtrainscaled = scaler.transform(X_train)\n",
    "Xtestscaled = scaler.transform(X_test)\n",
    "\n",
    "regr = LinearRegression()  # Create LinearRegression instance\n",
    "regr.fit(Xtrainscaled, y_train) # Learn hypothesis, i.e., find w_0 and w_1 for best fitting line\n",
    "print('Regression score on test data:\\t' + str(regr.score(Xtestscaled, y_test)))\n",
    "print('Regression score on train data:\\t' + str(regr.score(Xtrainscaled, y_train)))"
   ]
  },
  {
   "cell_type": "code",
   "execution_count": 101,
   "id": "291ba572",
   "metadata": {},
   "outputs": [
    {
     "name": "stdout",
     "output_type": "stream",
     "text": [
      "[2.56737980e-001 9.38011257e-031 6.44955662e-016 2.74777639e-128\n",
      " 5.73831865e-001 2.48242635e-004 6.39211253e-001 4.36410854e-005\n",
      " 5.16205302e-001 8.29532217e-031]\n"
     ]
    }
   ],
   "source": [
    "from sklearn.feature_selection import f_regression\n",
    "print(f_regression(X_train, y_train)[1])"
   ]
  },
  {
   "cell_type": "code",
   "execution_count": null,
   "id": "083c8b7a",
   "metadata": {},
   "outputs": [],
   "source": []
  }
 ],
 "metadata": {
  "kernelspec": {
   "display_name": "Python 3 (ipykernel)",
   "language": "python",
   "name": "python3"
  },
  "language_info": {
   "codemirror_mode": {
    "name": "ipython",
    "version": 3
   },
   "file_extension": ".py",
   "mimetype": "text/x-python",
   "name": "python",
   "nbconvert_exporter": "python",
   "pygments_lexer": "ipython3",
   "version": "3.9.12"
  }
 },
 "nbformat": 4,
 "nbformat_minor": 5
}
